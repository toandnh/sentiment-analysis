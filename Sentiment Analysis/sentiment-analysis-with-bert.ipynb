{
 "cells": [
  {
   "cell_type": "code",
   "execution_count": 1,
   "id": "986ee63c-29da-44f9-b17f-252babbb2553",
   "metadata": {},
   "outputs": [],
   "source": [
    "import pandas as pd\n",
    "\n",
    "#load the data.\n",
    "df = pd.read_csv(\"./data/train3.csv\")"
   ]
  },
  {
   "cell_type": "code",
   "execution_count": 2,
   "id": "bba18aeb-a24d-4c46-a748-fd2ee76ddd60",
   "metadata": {},
   "outputs": [
    {
     "data": {
      "text/plain": [
       "(56000, 3)"
      ]
     },
     "execution_count": 2,
     "metadata": {},
     "output_type": "execute_result"
    }
   ],
   "source": [
    "df.shape"
   ]
  },
  {
   "cell_type": "code",
   "execution_count": 3,
   "id": "772b3754-0bf3-4117-b86a-e5a81a061750",
   "metadata": {},
   "outputs": [
    {
     "data": {
      "text/html": [
       "<div>\n",
       "<style scoped>\n",
       "    .dataframe tbody tr th:only-of-type {\n",
       "        vertical-align: middle;\n",
       "    }\n",
       "\n",
       "    .dataframe tbody tr th {\n",
       "        vertical-align: top;\n",
       "    }\n",
       "\n",
       "    .dataframe thead th {\n",
       "        text-align: right;\n",
       "    }\n",
       "</style>\n",
       "<table border=\"1\" class=\"dataframe\">\n",
       "  <thead>\n",
       "    <tr style=\"text-align: right;\">\n",
       "      <th></th>\n",
       "      <th>Text</th>\n",
       "      <th>Class</th>\n",
       "      <th>ID</th>\n",
       "    </tr>\n",
       "  </thead>\n",
       "  <tbody>\n",
       "    <tr>\n",
       "      <th>0</th>\n",
       "      <td>Fun little place to stop and have lunch  There...</td>\n",
       "      <td>positive</td>\n",
       "      <td>1307144</td>\n",
       "    </tr>\n",
       "    <tr>\n",
       "      <th>1</th>\n",
       "      <td>This place was PACKED  Went for late night foo...</td>\n",
       "      <td>negative</td>\n",
       "      <td>5544361</td>\n",
       "    </tr>\n",
       "    <tr>\n",
       "      <th>2</th>\n",
       "      <td>We board the plane 30 minutes before the actua...</td>\n",
       "      <td>positive</td>\n",
       "      <td>5956200</td>\n",
       "    </tr>\n",
       "    <tr>\n",
       "      <th>3</th>\n",
       "      <td>Chaotic 4 story place  but fun for kids  The w...</td>\n",
       "      <td>positive</td>\n",
       "      <td>718388</td>\n",
       "    </tr>\n",
       "    <tr>\n",
       "      <th>4</th>\n",
       "      <td>After (intentionally) capsizing a sailboat in ...</td>\n",
       "      <td>neutral</td>\n",
       "      <td>174754</td>\n",
       "    </tr>\n",
       "  </tbody>\n",
       "</table>\n",
       "</div>"
      ],
      "text/plain": [
       "                                                Text     Class       ID\n",
       "0  Fun little place to stop and have lunch  There...  positive  1307144\n",
       "1  This place was PACKED  Went for late night foo...  negative  5544361\n",
       "2  We board the plane 30 minutes before the actua...  positive  5956200\n",
       "3  Chaotic 4 story place  but fun for kids  The w...  positive   718388\n",
       "4  After (intentionally) capsizing a sailboat in ...   neutral   174754"
      ]
     },
     "execution_count": 3,
     "metadata": {},
     "output_type": "execute_result"
    }
   ],
   "source": [
    "df.head()"
   ]
  },
  {
   "cell_type": "code",
   "execution_count": 4,
   "id": "3f228812-567b-49b4-83d8-b5b5b3a06f52",
   "metadata": {},
   "outputs": [
    {
     "name": "stdout",
     "output_type": "stream",
     "text": [
      "Have been coming to Fresh on Bloor for years and its easily my favourite of the four Fresh Restaurants in Toronto  Every time I visit Im met with exceptional service  and great food  Ive never had a disappointing visit to Fresh on Bloor and I visit whenever Im in the area \n",
      "\n",
      "We checked out The Teapot today  it has only been open for three weeks  and it is just adorable! A family friendly place that serves coffee and tea with a quaint backyard that has a play area for the littles to play while us mommas get our coffee fix! Such a great idea  We will definitely be back!\n",
      "\n",
      "Very fast service with friendly wait staff  albeit always looking just a little bit stressed out Moments after you sit you get a salad with Thai sweet dressing  as well as a menu  Pretty good selection for a small place  Been happy with every dish Ive had so far  Fast  Great food  Plentiful portions  My go to spot for lunch \n",
      "\n",
      "My husband only lets us watch movies here  there snacks are great  you pick your seat and lounge in it like home  my 7 year brings a blanket to cuddle  This place is great  \n",
      "\n",
      "A cute place with large mirrors and high ceilings  Order up front and they find you in this two story cafe  One of the cutest places to have your breakfast and coffee  but expect drinks and food to be average \n",
      "\n",
      "Love  This  Place   Not many bakeries do everything perfectly   Well  La Gourmandine does   Whether you are looking for breads or pastries  everything in this place is amazing  We recently had a get together and everyone was asking where the bread was from because it was so amazing   I cant say I have had that before     Bread is usually bread   They have a few different types of baguettes there and all are yummy   Some of our fave pastries are: macaroon aux fruits  the citrus tart  raspberry tart  marquise  mousse de framboise and a seasonal one they dont seem to have now the religiuse de caramel (I butchered the spelling on that one)  Everything truly is spectacular  Visits here have become part of our weekend routine  I suggest getting there early in case they sell out of anything  You wont be disappointed!!!!\n",
      "\n",
      "Update: Not sure name calling really addresses the fundamental problems listed in the review   or for that matter the basic concept of customer service in the adult world   but then the petulant reaction comes as no real surprise \n",
      "\n",
      "The Madison will whip you into shape in just a few weeks  I have always been into fitness but The Madison is where I took a few of my first cycle classes and I love it!Being new to spin  I was a little nervous going there but they made me feel extremely comfortable  The instructors always offer to help with setting up your bike and getting ready  The music is always so fun and it is a hard workout  but the energy in the room makes it fly by so quickly  No matter if you are new to cycling or a pro at it  I think you will love this studio  I highly recommend it!!\n",
      "\n",
      "Love love love this place  Demi did an outstanding job on my shellac mani  Im particular with the shape & she nailed it  I like them super square  and they look amazing  Thank you Demi  See you next month when Im back in town!!\n",
      "\n",
      "More Savory than Sweet  Be still my heart!!  I am not a huge sweets eater and I missed the women love chocolate bus but occasionally I have a craving for some some yumminess in candy form  Vosges is the hands down best chocolate I have come across to date  I love that they put bacon and salt in a chocolate bar  I love their seemingly crazy concoctions made with curry powder  wasabi  or fennel  My absolute favorite is their absinthe truffle  When I tried it for the first time in the store I exclaimed Wow this is amazing! so loudly that the other patrons in the store flocked to the counter to find out what I ate  I heart everything here  The ice cream is thick and custardy  the cookies are moist  bold and unique  and the truffles are out of this world  If you appreciate some savory alchemy on your pallet you must visit Vosges!\n",
      "\n"
     ]
    }
   ],
   "source": [
    "from random import randint\n",
    "\n",
    "#number of texts to print.\n",
    "num_sample = 10\n",
    "#to store random integers in range [0, len(df)].\n",
    "rand = []\n",
    "#generate random integers.\n",
    "for _ in range(num_sample):\n",
    "    value = randint(0, len(df))\n",
    "    if value not in rand:\n",
    "        rand.append(value)\n",
    "\n",
    "#print out the texts at random index computed above.\n",
    "for rand_index in rand:\n",
    "    print(df['Text'][rand_index], end='\\n\\n')"
   ]
  },
  {
   "cell_type": "code",
   "execution_count": 5,
   "id": "3a832892-ee90-4181-89e6-036ece531eb2",
   "metadata": {},
   "outputs": [
    {
     "data": {
      "text/plain": [
       "positive    38348\n",
       "negative    11897\n",
       "neutral      5755\n",
       "Name: Class, dtype: int64"
      ]
     },
     "execution_count": 5,
     "metadata": {},
     "output_type": "execute_result"
    }
   ],
   "source": [
    "#class distribution.\n",
    "df['Class'].value_counts()"
   ]
  },
  {
   "cell_type": "code",
   "execution_count": 7,
   "id": "f0138ca0-22e5-44a9-971f-f06bfc4dd169",
   "metadata": {},
   "outputs": [
    {
     "data": {
      "text/plain": [
       "<seaborn.axisgrid.FacetGrid at 0x263800301c0>"
      ]
     },
     "execution_count": 7,
     "metadata": {},
     "output_type": "execute_result"
    },
    {
     "data": {
      "image/png": "[encoded data removed]",
      "text/plain": [
       "<Figure size 648x432 with 1 Axes>"
      ]
     },
     "metadata": {
      "needs_background": "light"
     },
     "output_type": "display_data"
    }
   ],
   "source": [
    "import seaborn as sns\n",
    "\n",
    "sns.displot(df['Class'], bins=10, height=6, aspect=1.5)"
   ]
  },
  {
   "cell_type": "code",
   "execution_count": 8,
   "id": "8617989e-9536-4a30-95d8-97f167223d8b",
   "metadata": {},
   "outputs": [
    {
     "name": "stdout",
     "output_type": "stream",
     "text": [
      "Labels' dictionary: {'positive': 0, 'negative': 1, 'neutral': 2}\n"
     ]
    }
   ],
   "source": [
    "#dictionary of distinct labels.\n",
    "possible_labels = df['Class'].unique()\n",
    "label_dict = {}\n",
    "for index, possible_label in enumerate(possible_labels):\n",
    "    label_dict[possible_label] = index\n",
    "print(\"Labels' dictionary: %s\" % label_dict)\n",
    "\n",
    "#convert nomial to numeric.\n",
    "df['Class'] = df['Class'].replace(label_dict)"
   ]
  },
  {
   "cell_type": "code",
   "execution_count": 9,
   "id": "f7065916-104f-4079-8b24-0d9d09af136b",
   "metadata": {},
   "outputs": [],
   "source": [
    "import re \n",
    "\n",
    "#a dictionary of contractions.\n",
    "dict = {'isnt': 'is not',\n",
    "        'arent': 'are not',\n",
    "        'wasnt': 'was not',\n",
    "        'werent': 'were not',\n",
    "        'cant': 'can not',\n",
    "        'dont': 'do not',\n",
    "        'didnt': 'did not',\n",
    "        'wont': 'will not',\n",
    "        'wouldnt': 'would not',\n",
    "        'couldnt': 'could not',\n",
    "        'havent': 'have not',\n",
    "        'hasnt': 'has not'}\n",
    "\n",
    "#process function.\n",
    "def preprocess_text(s):\n",
    "    #convert to lower case.\n",
    "    s = s.casefold()\n",
    "    #remove punctuations and number.\n",
    "    s = re.sub(r'[^a-zA-Z]', ' ', s)\n",
    "    #remove single char.\n",
    "    s = re.sub(r'\\s+[a-zA-Z]\\s+', ' ', s)\n",
    "    #remove multiple spaces.\n",
    "    s = re.sub(r'\\s+', ' ', s)\n",
    "    #remove extra spaces.\n",
    "    s = s.strip()\n",
    "    #remove contraction.\n",
    "    for key, value in dict.items():\n",
    "        s = re.sub(key, value, s)\n",
    "    return s"
   ]
  },
  {
   "cell_type": "code",
   "execution_count": 10,
   "id": "ae64a330-f733-498f-8d93-d8e8294a1679",
   "metadata": {},
   "outputs": [],
   "source": [
    "#apply preprocessing on the dataset.\n",
    "df['Text'] = df['Text'].apply(lambda x : preprocess_text(x))"
   ]
  },
  {
   "cell_type": "code",
   "execution_count": 11,
   "id": "32237cc8-66f4-4392-987c-59f0195efdef",
   "metadata": {},
   "outputs": [
    {
     "data": {
      "text/html": [
       "<div>\n",
       "<style scoped>\n",
       "    .dataframe tbody tr th:only-of-type {\n",
       "        vertical-align: middle;\n",
       "    }\n",
       "\n",
       "    .dataframe tbody tr th {\n",
       "        vertical-align: top;\n",
       "    }\n",
       "\n",
       "    .dataframe thead th {\n",
       "        text-align: right;\n",
       "    }\n",
       "</style>\n",
       "<table border=\"1\" class=\"dataframe\">\n",
       "  <thead>\n",
       "    <tr style=\"text-align: right;\">\n",
       "      <th></th>\n",
       "      <th>Text</th>\n",
       "      <th>Class</th>\n",
       "      <th>ID</th>\n",
       "    </tr>\n",
       "  </thead>\n",
       "  <tbody>\n",
       "    <tr>\n",
       "      <th>0</th>\n",
       "      <td>fun little place to stop and have lunch there ...</td>\n",
       "      <td>0</td>\n",
       "      <td>1307144</td>\n",
       "    </tr>\n",
       "    <tr>\n",
       "      <th>1</th>\n",
       "      <td>this place was packed went for late night food...</td>\n",
       "      <td>1</td>\n",
       "      <td>5544361</td>\n",
       "    </tr>\n",
       "    <tr>\n",
       "      <th>2</th>\n",
       "      <td>we board the plane minutes before the actual f...</td>\n",
       "      <td>0</td>\n",
       "      <td>5956200</td>\n",
       "    </tr>\n",
       "    <tr>\n",
       "      <th>3</th>\n",
       "      <td>chaotic story place but fun for kids the white...</td>\n",
       "      <td>0</td>\n",
       "      <td>718388</td>\n",
       "    </tr>\n",
       "    <tr>\n",
       "      <th>4</th>\n",
       "      <td>after intentionally capsizing sailboat in ttl ...</td>\n",
       "      <td>2</td>\n",
       "      <td>174754</td>\n",
       "    </tr>\n",
       "  </tbody>\n",
       "</table>\n",
       "</div>"
      ],
      "text/plain": [
       "                                                Text  Class       ID\n",
       "0  fun little place to stop and have lunch there ...      0  1307144\n",
       "1  this place was packed went for late night food...      1  5544361\n",
       "2  we board the plane minutes before the actual f...      0  5956200\n",
       "3  chaotic story place but fun for kids the white...      0   718388\n",
       "4  after intentionally capsizing sailboat in ttl ...      2   174754"
      ]
     },
     "execution_count": 11,
     "metadata": {},
     "output_type": "execute_result"
    }
   ],
   "source": [
    "df.head()"
   ]
  },
  {
   "cell_type": "code",
   "execution_count": 12,
   "id": "bc36d945-dc15-4251-8832-3848ee4344fc",
   "metadata": {},
   "outputs": [],
   "source": [
    "from sklearn.model_selection import train_test_split\n",
    "\n",
    "#split data into train and test.\n",
    "X_train, X_val, y_train, y_val = train_test_split(df.index.values,\n",
    "                                                  df['Class'].values,\n",
    "                                                  test_size=0.2,\n",
    "                                                  shuffle=True,\n",
    "                                                  stratify = df['Class'].values, #keep the class distribution.\n",
    "                                                  random_state=42)"
   ]
  },
  {
   "cell_type": "code",
   "execution_count": 13,
   "id": "7ead3ef9-ae8a-4f8d-b196-745b0ffcfbac",
   "metadata": {},
   "outputs": [],
   "source": [
    "#add datatype column.\n",
    "df.loc[X_train, 'data_type'] = 'train'\n",
    "df.loc[X_val, 'data_type'] = 'val'"
   ]
  },
  {
   "cell_type": "code",
   "execution_count": 14,
   "id": "8bdfe7cb-b553-45e4-9c03-f81e20379cd4",
   "metadata": {},
   "outputs": [
    {
     "name": "stderr",
     "output_type": "stream",
     "text": [
      "Some weights of the model checkpoint at bert-base-uncased were not used when initializing BertForSequenceClassification: ['cls.seq_relationship.weight', 'cls.predictions.transform.LayerNorm.bias', 'cls.predictions.decoder.weight', 'cls.predictions.transform.LayerNorm.weight', 'cls.seq_relationship.bias', 'cls.predictions.transform.dense.weight', 'cls.predictions.transform.dense.bias', 'cls.predictions.bias']\n",
      "- This IS expected if you are initializing BertForSequenceClassification from the checkpoint of a model trained on another task or with another architecture (e.g. initializing a BertForSequenceClassification model from a BertForPreTraining model).\n",
      "- This IS NOT expected if you are initializing BertForSequenceClassification from the checkpoint of a model that you expect to be exactly identical (initializing a BertForSequenceClassification model from a BertForSequenceClassification model).\n",
      "Some weights of BertForSequenceClassification were not initialized from the model checkpoint at bert-base-uncased and are newly initialized: ['classifier.bias', 'classifier.weight']\n",
      "You should probably TRAIN this model on a down-stream task to be able to use it for predictions and inference.\n"
     ]
    }
   ],
   "source": [
    "from transformers import BertTokenizer, BertForSequenceClassification\n",
    "\n",
    "model_name = 'bert-base-uncased'\n",
    "#tokenizer and model.\n",
    "tokenizer = BertTokenizer.from_pretrained(model_name)\n",
    "model = BertForSequenceClassification.from_pretrained(model_name, num_labels=len(label_dict))"
   ]
  },
  {
   "cell_type": "code",
   "execution_count": 15,
   "id": "9ccdbc66-f590-498c-9e3c-a146f406a45f",
   "metadata": {},
   "outputs": [
    {
     "name": "stdout",
     "output_type": "stream",
     "text": [
      "235\n"
     ]
    }
   ],
   "source": [
    "#store the length of all the reviews in the dataset. \n",
    "train_len = []\n",
    "#store the text with the maximum length in the dataset.\n",
    "max_len = 0\n",
    "for _, text in enumerate(df['Text']):\n",
    "    train_len.append(len(tokenizer(text)['input_ids']))\n",
    "    if len(tokenizer(text)['input_ids']) > max_len:\n",
    "        max_len = len(tokenizer(text)['input_ids'])\n",
    "print(max_len)"
   ]
  },
  {
   "cell_type": "code",
   "execution_count": 16,
   "id": "aad2ac36-585c-4503-b868-93cb3f76acfd",
   "metadata": {},
   "outputs": [
    {
     "data": {
      "text/plain": [
       "<seaborn.axisgrid.FacetGrid at 0x263a6c7d190>"
      ]
     },
     "execution_count": 16,
     "metadata": {},
     "output_type": "execute_result"
    },
    {
     "data": {
      "image/png": "[encoded data removed]",
      "text/plain": [
       "<Figure size 864x576 with 1 Axes>"
      ]
     },
     "metadata": {
      "needs_background": "light"
     },
     "output_type": "display_data"
    }
   ],
   "source": [
    "import seaborn as sns\n",
    "\n",
    "#reviews' length in the dataset.\n",
    "ax = sns.displot(data=train_len, bins=20, height=8, aspect=1.5) #assign result to new axis variable.\n",
    "ax.set(xlabel=\"Length\", ylabel = \"Count\", title=\"Text's Length\") #call .set() with this new variable to set x/ylabel."
   ]
  },
  {
   "cell_type": "code",
   "execution_count": 17,
   "id": "6a761cbe-1988-4bd6-835a-58549562b7f0",
   "metadata": {},
   "outputs": [],
   "source": [
    "#encoder.\n",
    "def encoder(texts, tokenizer):\n",
    "    \"\"\"Compute encodings given texts and a tokenizer.\"\"\"\n",
    "    encodings = tokenizer.batch_encode_plus(texts,\n",
    "                                            return_token_type_ids=False, #no need for this task.\n",
    "                                            #truncation=True, #all sentences are shorter than model's max length (512), no need to truncate. \n",
    "                                            padding='max_length',\n",
    "                                            max_length=300, #since max_len is 235, we'll pad everything to 300.\n",
    "                                            return_tensors='pt')\n",
    "    return encodings"
   ]
  },
  {
   "cell_type": "code",
   "execution_count": 18,
   "id": "d169c734-5080-47d3-ac5d-ac81e3340465",
   "metadata": {},
   "outputs": [],
   "source": [
    "import torch \n",
    "\n",
    "#encode and add labels to the training data.\n",
    "train_encodings = encoder(df[df.data_type=='train'].Text.values, tokenizer)\n",
    "train_encodings['labels'] = torch.tensor(df[df.data_type=='train'].Class.values)\n",
    "\n",
    "#encode and add labels to the validation data.\n",
    "val_encodings = encoder(df[df.data_type=='val'].Text.values, tokenizer)\n",
    "val_encodings['labels'] = torch.tensor(df[df.data_type=='val'].Class.values)"
   ]
  },
  {
   "cell_type": "code",
   "execution_count": 19,
   "id": "6a1f997c-d4f3-4d89-8f32-eabc9df5edc4",
   "metadata": {},
   "outputs": [
    {
     "data": {
      "text/plain": [
       "dict_keys(['input_ids', 'attention_mask', 'labels'])"
      ]
     },
     "execution_count": 19,
     "metadata": {},
     "output_type": "execute_result"
    }
   ],
   "source": [
    "train_encodings.keys()"
   ]
  },
  {
   "cell_type": "code",
   "execution_count": 20,
   "id": "adba8eff-48b9-40c2-bbe9-83d8b5d588f8",
   "metadata": {},
   "outputs": [],
   "source": [
    "from sklearn.metrics import accuracy_score, f1_score\n",
    "\n",
    "def accuracy_score_func(preds, labels):\n",
    "    \"\"\"Calculate accuracy given predictions and labels.\"\"\"\n",
    "    preds_flat = np.argmax(preds, axis=1).flatten()\n",
    "    labels_flat = labels.flatten()\n",
    "    return accuracy_score(preds_flat, labels_flat)\n",
    "\n",
    "def f1_score_func(preds, labels):\n",
    "    \"\"\"Calculate weighted f1 score given predictions and labels.\"\"\"\n",
    "    preds_flat = np.argmax(preds, axis=1).flatten()\n",
    "    labels_flat = labels.flatten()\n",
    "    return f1_score(preds_flat, labels_flat, average='weighted')"
   ]
  },
  {
   "cell_type": "code",
   "execution_count": 21,
   "id": "78378fba-e395-4731-9cff-505bc19f6cd8",
   "metadata": {},
   "outputs": [],
   "source": [
    "from tqdm import tqdm\n",
    "\n",
    "def evaluate(model, val_dataloader):\n",
    "    \"\"\"Return loss, predictions and true values on validation dataset.\"\"\"\n",
    "    #evaluation mode.\n",
    "    model.eval()\n",
    "\n",
    "    #store variables.\n",
    "    loss_val_total = 0 #total loss.\n",
    "    predictions, true_vals = [], [] #predicted labels and real labels.\n",
    "\n",
    "    for batch in tqdm(val_dataloader):\n",
    "\n",
    "        #load into device.\n",
    "        batch = tuple(b.to(device) for b in batch)\n",
    "\n",
    "        #define inputs.\n",
    "        inputs = {'input_ids':      batch[0],\n",
    "                  'attention_mask': batch[1],\n",
    "                  'labels':         batch[2]}\n",
    "\n",
    "        #compute outputs.\n",
    "        with torch.no_grad():\n",
    "            outputs = model(**inputs)\n",
    "\n",
    "        #save loss and logits.\n",
    "        loss = outputs[0]\n",
    "        logits = outputs[1]\n",
    "        loss_val_total += loss.item()\n",
    "\n",
    "        #store predictions and labels.\n",
    "        logits = logits.cpu().numpy()\n",
    "        label_ids = inputs['labels'].cpu().numpy()\n",
    "        predictions.append(logits)\n",
    "        true_vals.append(label_ids)\n",
    "\n",
    "    #compute average loss.\n",
    "    loss_val_avg = loss_val_total / len(val_dataloader)\n",
    "\n",
    "    #flatten predictions and true_vals arrays.\n",
    "    predictions = np.concatenate(predictions)\n",
    "    true_vals = np.concatenate(true_vals)\n",
    "\n",
    "    return loss_val_avg, predictions, true_vals"
   ]
  },
  {
   "cell_type": "code",
   "execution_count": 22,
   "id": "62789eda-88a2-4b39-91b3-28e57dac58de",
   "metadata": {},
   "outputs": [],
   "source": [
    "from torch.utils.data import TensorDataset, DataLoader, RandomSampler\n",
    "from transformers import AdamW, get_linear_schedule_with_warmup\n",
    "\n",
    "train_dataset = TensorDataset(train_encodings['input_ids'], \n",
    "                              train_encodings['attention_mask'], \n",
    "                              train_encodings['labels'])\n",
    "val_dataset = TensorDataset(val_encodings['input_ids'], \n",
    "                            val_encodings['attention_mask'], \n",
    "                            val_encodings['labels'])\n",
    "\n",
    "batch_size = 8\n",
    "\n",
    "#create loader for training data.\n",
    "train_dataloader = DataLoader(train_dataset,\n",
    "                              sampler=RandomSampler(train_dataset),\n",
    "                              batch_size=batch_size)\n",
    "#create loader for validating data.\n",
    "val_dataloader = DataLoader(val_dataset,\n",
    "                            sampler=RandomSampler(val_dataset),\n",
    "                            batch_size=batch_size)\n",
    "\n",
    "#set up optimizer and scheduler for fine-tuning model.\n",
    "optimizer = AdamW(model.parameters(),\n",
    "                  lr=3e-5,\n",
    "                  eps=1e-8)\n",
    "epochs = 3\n",
    "scheduler = get_linear_schedule_with_warmup(optimizer,\n",
    "                                            num_warmup_steps=0,\n",
    "                                            num_training_steps=len(train_dataloader)*epochs)"
   ]
  },
  {
   "cell_type": "code",
   "execution_count": 23,
   "id": "41e493d6-7a80-4c92-a8bc-3df7a357167a",
   "metadata": {},
   "outputs": [
    {
     "name": "stdout",
     "output_type": "stream",
     "text": [
      "There are 1 GPU(s) available.\n",
      "Device name: NVIDIA GeForce RTX 2070 Super\n"
     ]
    },
    {
     "name": "stderr",
     "output_type": "stream",
     "text": [
      "                                                                                                                       \r"
     ]
    },
    {
     "name": "stdout",
     "output_type": "stream",
     "text": [
      "\n",
      "Epoch 1\n",
      "Training loss: 0.36587241202678084\n"
     ]
    },
    {
     "name": "stderr",
     "output_type": "stream",
     "text": [
      "100%|██████████████████████████████████████████████████████████████████████████████| 1400/1400 [02:24<00:00,  9.68it/s]\n"
     ]
    },
    {
     "name": "stdout",
     "output_type": "stream",
     "text": [
      "Validation loss: 0.3385196447698399\n",
      "Validation accuracy: 0.8927678571428571\n",
      "F1 Score (weighted): 0.8987307323307425\n"
     ]
    },
    {
     "name": "stderr",
     "output_type": "stream",
     "text": [
      "                                                                                                                       \r"
     ]
    },
    {
     "name": "stdout",
     "output_type": "stream",
     "text": [
      "\n",
      "Epoch 2\n",
      "Training loss: 0.2611881009049362\n"
     ]
    },
    {
     "name": "stderr",
     "output_type": "stream",
     "text": [
      "100%|██████████████████████████████████████████████████████████████████████████████| 1400/1400 [02:29<00:00,  9.40it/s]\n"
     ]
    },
    {
     "name": "stdout",
     "output_type": "stream",
     "text": [
      "Validation loss: 0.3538742558809463\n",
      "Validation accuracy: 0.8859821428571428\n",
      "F1 Score (weighted): 0.8836522345871873\n"
     ]
    },
    {
     "name": "stderr",
     "output_type": "stream",
     "text": [
      "                                                                                                                       \r"
     ]
    },
    {
     "name": "stdout",
     "output_type": "stream",
     "text": [
      "\n",
      "Epoch 3\n",
      "Training loss: 0.16792213858643923\n"
     ]
    },
    {
     "name": "stderr",
     "output_type": "stream",
     "text": [
      "100%|██████████████████████████████████████████████████████████████████████████████| 1400/1400 [02:26<00:00,  9.53it/s]"
     ]
    },
    {
     "name": "stdout",
     "output_type": "stream",
     "text": [
      "Validation loss: 0.5001744945624419\n",
      "Validation accuracy: 0.8908928571428572\n",
      "F1 Score (weighted): 0.8929451733553864\n"
     ]
    },
    {
     "name": "stderr",
     "output_type": "stream",
     "text": [
      "\n"
     ]
    }
   ],
   "source": [
    "import os\n",
    "\n",
    "#check for available gpu.\n",
    "if torch.cuda.is_available():\n",
    "    device = torch.device(\"cuda\")\n",
    "    print(f'There are {torch.cuda.device_count()} GPU(s) available.')\n",
    "    print('Device name:', torch.cuda.get_device_name(0))\n",
    "else:\n",
    "    print('No GPU available, using the CPU instead.')\n",
    "    device = torch.device(\"cpu\")\n",
    "    \n",
    "#move the model to the available device.\n",
    "model.to(device)\n",
    "\n",
    "#fine-tune the model.\n",
    "for epoch in range(1, epochs+1):\n",
    "\n",
    "    #training mode.\n",
    "    model.train()\n",
    "\n",
    "    #setting initial loss to 0.\n",
    "    loss_train_total = 0\n",
    "\n",
    "    #setting up the progress bar.\n",
    "    progress_bar = tqdm(train_dataloader,\n",
    "                        desc='Epoch {:1d}'.format(epoch),\n",
    "                        leave=False,\n",
    "                        disable=False)\n",
    "\n",
    "    for batch in progress_bar:\n",
    "        #set gradient to 0.\n",
    "        model.zero_grad()\n",
    "\n",
    "        #the batch will be a tuple of 3.\n",
    "        batch = tuple(b.to(device) for b in batch)\n",
    "\n",
    "        #dictionary of inputs.\n",
    "        inputs = {'input_ids':      batch[0],\n",
    "                  'attention_mask': batch[1],\n",
    "                  'labels':         batch[2]}\n",
    "\n",
    "        #unpack the dict straight into inputs.\n",
    "        outputs = model(**inputs)\n",
    "\n",
    "        loss = outputs[0]\n",
    "        loss_train_total += loss.item()\n",
    "        loss.backward()\n",
    "\n",
    "        #gradient clipping.\n",
    "        torch.nn.utils.clip_grad_norm_(model.parameters(), 1.0)\n",
    "\n",
    "        optimizer.step()\n",
    "        scheduler.step()\n",
    "        progress_bar.set_postfix({'training_loss': '{:.3f}'.format(loss.item() / len(batch))})\n",
    "    \n",
    "    #check if path exists.\n",
    "    if not os.path.exists('models'):\n",
    "        os.mkdir('models')\n",
    "    torch.save(model.state_dict(), f'models/Bert_sa_ft_epoch{epoch}.model')\n",
    "\n",
    "    tqdm.write(f'\\nEpoch {epoch}')\n",
    "\n",
    "    loss_train_ave = loss_train_total / len(train_dataloader)\n",
    "    tqdm.write(f'Training loss: {loss_train_ave}')\n",
    "\n",
    "    val_loss, predictions, true_vals = evaluate(model, val_dataloader)\n",
    "    val_f1 = f1_score_func(predictions, true_vals)\n",
    "    val_acc = accuracy_score_func(predictions, true_vals)\n",
    "    tqdm.write(f'Validation loss: {val_loss}')\n",
    "    tqdm.write(f'Validation accuracy: {val_acc}')\n",
    "    tqdm.write(f'F1 Score (weighted): {val_f1}')"
   ]
  }
 ],
 "metadata": {
  "kernelspec": {
   "display_name": "Python 3 (ipykernel)",
   "language": "python",
   "name": "python3"
  },
  "language_info": {
   "codemirror_mode": {
    "name": "ipython",
    "version": 3
   },
   "file_extension": ".py",
   "mimetype": "text/x-python",
   "name": "python",
   "nbconvert_exporter": "python",
   "pygments_lexer": "ipython3",
   "version": "3.9.7"
  }
 },
 "nbformat": 4,
 "nbformat_minor": 5
}
